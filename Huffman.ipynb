{
  "nbformat": 4,
  "nbformat_minor": 0,
  "metadata": {
    "colab": {
      "provenance": []
    },
    "kernelspec": {
      "name": "python3",
      "display_name": "Python 3"
    },
    "language_info": {
      "name": "python"
    }
  },
  "cells": [
    {
      "cell_type": "code",
      "source": [
        "!pip install math"
      ],
      "metadata": {
        "id": "2_VWFLFztUKE"
      },
      "execution_count": null,
      "outputs": []
    },
    {
      "cell_type": "code",
      "execution_count": null,
      "metadata": {
        "id": "_CCfosHrJq_w"
      },
      "outputs": [],
      "source": [
        "import cv2\n",
        "import huffman\n",
        "import math\n",
        "\n",
        "\n",
        "img = cv2.imread(\"/content/cameraman.bmp\", 0)\n",
        "\n",
        "hashmap = dict()\n",
        "\n",
        "rows, cols = img.shape\n",
        "for row in range(rows):\n",
        "    for col in range(cols):\n",
        "        pixel = img[row][col]\n",
        "        if pixel not in hashmap:\n",
        "            hashmap[pixel] = 1\n",
        "        else:\n",
        "            hashmap[pixel] += 1\n",
        "\n",
        "symbol_freq_pairs = [(key, value) for key, value in hashmap.items()]\n",
        "\n",
        "\n",
        "codebook = huffman.codebook(symbol_freq_pairs)\n",
        "\n",
        "\n",
        "print(\"Huffman Codes:\")\n",
        "for symbol, code in codebook.items():\n",
        "    print(f\"Symbol: {symbol}, Code: {code}\")\n",
        "\n",
        "\n",
        "total_frequency = sum(freq for _, freq in symbol_freq_pairs)\n",
        "ent = sum(-p * math.log2(p) for _, p in ((symbol, freq / total_frequency) for symbol, freq in symbol_freq_pairs if freq))\n",
        "print(\"\\nEntropy:\", ent)\n",
        "\n",
        "\n",
        "avg_len = sum(len(code) * (freq / total_frequency) for symbol, freq in symbol_freq_pairs for code in [codebook[symbol]])\n",
        "print(\"Average Codeword Length:\", avg_len)\n",
        "\n",
        "\n",
        "eff = ent / avg_len\n",
        "print(\"Efficiency:\", eff*100,\"%\")"
      ]
    },
    {
      "cell_type": "code",
      "source": [
        "print(\"Entropy: \", ent)\n",
        "print(\"Efficiency: \", ent*100/avg_len, \"%\")\n",
        "redundancy = 1-ent/avg_len\n",
        "print(\"Redundancy:\", redundancy)\n",
        "print(\"Compression Ratio = \", 1/(1 - redundancy))"
      ],
      "metadata": {
        "colab": {
          "base_uri": "https://localhost:8080/"
        },
        "id": "o_Zelq2Ft1Fq",
        "outputId": "0a65120b-67dc-4be9-eb50-389bfb29021d"
      },
      "execution_count": 13,
      "outputs": [
        {
          "output_type": "stream",
          "name": "stdout",
          "text": [
            "Entropy:  7.009716283345516\n",
            "Efficiency:  99.50177854471987 %\n",
            "Redundancy: 0.004982214552801234\n",
            "Compression Ratio =  1.0050071613047218\n"
          ]
        }
      ]
    },
    {
      "cell_type": "code",
      "source": [
        "# Compression = 1/1-R\n",
        "# R = Redundancy"
      ],
      "metadata": {
        "id": "KmVc9UN0uGtW"
      },
      "execution_count": null,
      "outputs": []
    }
  ]
}